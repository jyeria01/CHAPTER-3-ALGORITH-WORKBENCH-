{
 "cells": [
  {
   "cell_type": "markdown",
   "id": "baa68c13",
   "metadata": {},
   "source": [
    "# QUESTION 5"
   ]
  },
  {
   "cell_type": "markdown",
   "id": "f6e96a8c",
   "metadata": {},
   "source": [
    "###### WRITE A NESTED DECISION STRUCTURES THAT PERFORM THE FOLLOWING: IF amount1 IS GREATER THAN 10 AND amount2 IS LESS THAT 100, DISPLAY THE GREATER OF amount1 AND amount2"
   ]
  },
  {
   "cell_type": "code",
   "execution_count": 1,
   "id": "ec27d34f",
   "metadata": {},
   "outputs": [],
   "source": [
    "# write a program to find the greater amount between amount1 and amount2"
   ]
  },
  {
   "cell_type": "code",
   "execution_count": 2,
   "id": "35c61562",
   "metadata": {},
   "outputs": [],
   "source": [
    "amount1 = 20\n",
    "amount2 = 55"
   ]
  },
  {
   "cell_type": "code",
   "execution_count": 3,
   "id": "dbb15d01",
   "metadata": {},
   "outputs": [
    {
     "ename": "SyntaxError",
     "evalue": "unterminated string literal (detected at line 4) (2180347026.py, line 4)",
     "output_type": "error",
     "traceback": [
      "\u001b[1;36m  Cell \u001b[1;32mIn[3], line 4\u001b[1;36m\u001b[0m\n\u001b[1;33m    print('The greater amount'amount2: ')\u001b[0m\n\u001b[1;37m                                       ^\u001b[0m\n\u001b[1;31mSyntaxError\u001b[0m\u001b[1;31m:\u001b[0m unterminated string literal (detected at line 4)\n"
     ]
    }
   ],
   "source": [
    "if amount1 > 10 and amount2 < 100:\n",
    "    print('The greater amount is amount1: ')\n",
    "else:\n",
    "    print('The greater amount'amount2: ')"
   ]
  },
  {
   "cell_type": "code",
   "execution_count": 4,
   "id": "26048b52",
   "metadata": {},
   "outputs": [
    {
     "name": "stdout",
     "output_type": "stream",
     "text": [
      "The greater amount is amount1: \n"
     ]
    }
   ],
   "source": [
    "if amount1 > 10 and amount2 < 100:\n",
    "    print('The greater amount is amount1: ')\n",
    "else:\n",
    "    print('The greater amount amount2: ')"
   ]
  },
  {
   "cell_type": "markdown",
   "id": "a4957f05",
   "metadata": {},
   "source": [
    "# Needed to enter more information"
   ]
  },
  {
   "cell_type": "code",
   "execution_count": 6,
   "id": "acc43deb",
   "metadata": {},
   "outputs": [
    {
     "name": "stdout",
     "output_type": "stream",
     "text": [
      "The greater amount is amount2:  55\n"
     ]
    }
   ],
   "source": [
    "if amount1 >10:\n",
    "    if amount2 < 100:\n",
    "        if amount1 > amount2:\n",
    "            print('The greater amount is amount1: ', amount1)\n",
    "        else:\n",
    "            print('The greater amount is amount2: ',amount2)\n",
    "    else:\n",
    "        print('amount2 is not less that 100')\n",
    "else:\n",
    "    print('amount1 is not greater than 10')"
   ]
  },
  {
   "cell_type": "code",
   "execution_count": 7,
   "id": "2556cfad",
   "metadata": {},
   "outputs": [],
   "source": [
    "# The amounts were taken from cell one. amount2 was 55 while amount1 was 20\n",
    "# You could put both amounts as the user inputs the amount"
   ]
  },
  {
   "cell_type": "code",
   "execution_count": 9,
   "id": "14e5af43",
   "metadata": {},
   "outputs": [
    {
     "name": "stdout",
     "output_type": "stream",
     "text": [
      "Enter amount 1: 40\n",
      "Enter amount 2: 1983\n",
      "amount2 is not less than 100\n"
     ]
    }
   ],
   "source": [
    "#Example\n",
    "amount1 = float(input('Enter amount 1: '))\n",
    "amount2 = float(input('Enter amount 2: '))\n",
    "if amount1 >10:\n",
    "    if amount2 < 100:\n",
    "        if amount1 > amount2:\n",
    "            print('The greater amount is amount1: ', amount1)\n",
    "        else:\n",
    "            print('The greater amount is amount2: ',amount2)\n",
    "    else:\n",
    "        print('amount2 is not less than 100')\n",
    "else:\n",
    "    print('amount1 is not greater than 10')"
   ]
  },
  {
   "cell_type": "code",
   "execution_count": null,
   "id": "6de966c0",
   "metadata": {},
   "outputs": [],
   "source": []
  }
 ],
 "metadata": {
  "kernelspec": {
   "display_name": "Python 3 (ipykernel)",
   "language": "python",
   "name": "python3"
  },
  "language_info": {
   "codemirror_mode": {
    "name": "ipython",
    "version": 3
   },
   "file_extension": ".py",
   "mimetype": "text/x-python",
   "name": "python",
   "nbconvert_exporter": "python",
   "pygments_lexer": "ipython3",
   "version": "3.11.4"
  }
 },
 "nbformat": 4,
 "nbformat_minor": 5
}
