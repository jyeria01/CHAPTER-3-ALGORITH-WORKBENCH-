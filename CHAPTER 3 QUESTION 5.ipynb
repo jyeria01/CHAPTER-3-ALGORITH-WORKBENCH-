{
 "cells": [
  {
   "cell_type": "markdown",
   "id": "e60445b6",
   "metadata": {},
   "source": [
    "# QUESTION 5"
   ]
  },
  {
   "cell_type": "markdown",
   "id": "aa5d9a14",
   "metadata": {},
   "source": [
    "###### WRITE A NESTED DECISION STRUCTURES THAT PERFORM THE FOLLOWING: IF amount1 IS GREATER THAN 10 AND amount2 IS LESS THAT 100, DISPLAY THE GREATER OF amount1 AND amount2"
   ]
  },
  {
   "cell_type": "code",
   "execution_count": 1,
   "id": "7e46e47e",
   "metadata": {},
   "outputs": [],
   "source": [
    "# write a program to find the greater amount between amount1 and amount2"
   ]
  },
  {
   "cell_type": "code",
   "execution_count": 2,
   "id": "8adb11fa",
   "metadata": {},
   "outputs": [],
   "source": [
    "amount1 = 20\n",
    "amount2 = 55"
   ]
  },
  {
   "cell_type": "code",
   "execution_count": 3,
   "id": "931f3191",
   "metadata": {},
   "outputs": [
    {
     "ename": "SyntaxError",
     "evalue": "unterminated string literal (detected at line 4) (2180347026.py, line 4)",
     "output_type": "error",
     "traceback": [
      "\u001b[1;36m  Cell \u001b[1;32mIn[3], line 4\u001b[1;36m\u001b[0m\n\u001b[1;33m    print('The greater amount'amount2: ')\u001b[0m\n\u001b[1;37m                                       ^\u001b[0m\n\u001b[1;31mSyntaxError\u001b[0m\u001b[1;31m:\u001b[0m unterminated string literal (detected at line 4)\n"
     ]
    }
   ],
   "source": [
    "if amount1 > 10 and amount2 < 100:\n",
    "    print('The greater amount is amount1: ')\n",
    "else:\n",
    "    print('The greater amount'amount2: ')"
   ]
  },
  {
   "cell_type": "code",
   "execution_count": 4,
   "id": "5276e4c7",
   "metadata": {},
   "outputs": [
    {
     "name": "stdout",
     "output_type": "stream",
     "text": [
      "The greater amount is amount1: \n"
     ]
    }
   ],
   "source": [
    "if amount1 > 10 and amount2 < 100:\n",
    "    print('The greater amount is amount1: ')\n",
    "else:\n",
    "    print('The greater amount amount2: ')"
   ]
  },
  {
   "cell_type": "code",
   "execution_count": null,
   "id": "97f716df",
   "metadata": {},
   "outputs": [],
   "source": []
  }
 ],
 "metadata": {
  "kernelspec": {
   "display_name": "Python 3 (ipykernel)",
   "language": "python",
   "name": "python3"
  },
  "language_info": {
   "codemirror_mode": {
    "name": "ipython",
    "version": 3
   },
   "file_extension": ".py",
   "mimetype": "text/x-python",
   "name": "python",
   "nbconvert_exporter": "python",
   "pygments_lexer": "ipython3",
   "version": "3.11.4"
  }
 },
 "nbformat": 4,
 "nbformat_minor": 5
}
